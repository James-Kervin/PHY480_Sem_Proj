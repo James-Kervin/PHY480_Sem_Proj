{
  "cells": [
    {
      "cell_type": "markdown",
      "metadata": {
        "id": "view-in-github",
        "colab_type": "text"
      },
      "source": [
        "<a href=\"https://colab.research.google.com/github/James-Kervin/PHY480_Sem_Proj/blob/main/PHY480_JamesKervinProject.ipynb\" target=\"_parent\"><img src=\"https://colab.research.google.com/assets/colab-badge.svg\" alt=\"Open In Colab\"/></a>"
      ]
    },
    {
      "cell_type": "markdown",
      "metadata": {
        "id": "dk0SPNpgoqwA"
      },
      "source": [
        "#### PHY 480/905 Semester Project\n",
        "###  Author: James Kervin\n",
        "#### Last Updated: "
      ]
    },
    {
      "cell_type": "markdown",
      "metadata": {
        "id": "rItdvYzKoqwB"
      },
      "source": [
        "# Modling of a Photovioltaic cell"
      ]
    },
    {
      "cell_type": "markdown",
      "metadata": {
        "id": "E9oZqSx4oqwB"
      },
      "source": [
        "##  Introduction "
      ]
    },
    {
      "cell_type": "markdown",
      "metadata": {
        "id": "OKrfo7zeoqwB"
      },
      "source": [
        "Optical physics is pivotal for many of our modern day technologies. Everything from laser cutters in factories, to fiber optic internet, to everyday remotes came from an understanding of how electromagnetic waves could be used to achieve a purpose. When constructing these technologies and experimenting with light to find new useful properties measuring the light accurately helps quantify and standardize all testing. This measuring of the light can’t be done with any tool that relies on human sight, humans can only see 380 to 750 nm wavelengths, and many electromagnetic waves lie outside that range. To alleviate this problem photovoltaics were invented as a consistent method of measuring electromagnetic waves.\n",
        "\n",
        "Photovoltaics are devices that use semiconductors to generate voltage when struck with light. This voltage can then be connected to a circuit and the current generated through that circuit. This current is related to the light incident through a variety of material properties and can be used to quantify the light incident upon the device. \n",
        "\n",
        "In this notebook a mathematical model of a photovoltaic is constructed, this model will take in the wavelengths expected and the power expected from the light source to be measured it will then return the amount of current generated. This is useful for testing something such as a laser or testing how much current is expected at the end of fiber optic cable.\n"
      ]
    },
    {
      "cell_type": "markdown",
      "metadata": {
        "id": "c1BXLjczoqwB"
      },
      "source": [
        "## Methodology"
      ]
    },
    {
      "cell_type": "markdown",
      "source": [
        "With the goal to create a mathematical model of the photovoltaic, the first thing that must be done is to collect all of the equations that model the characteristics of the semiconductor. These equations will then be solved using python. To stay with good coding practice the metric units and libraries used in the following notebook are all placed in the cell below."
      ],
      "metadata": {
        "id": "BxdLIzaViGSM"
      }
    },
    {
      "cell_type": "code",
      "source": [
        "import numpy as np\n",
        "from scipy import integrate\n",
        "from matplotlib import pyplot as plt\n",
        "import time\n",
        "\n",
        "#metric units\n",
        "nano = 10**-9\n",
        "u = 10**-6\n",
        "m = 10**-3\n",
        "\n",
        "#plank constant\n",
        "h = 4.1356*10**-15 #ev/Hz\n",
        "#speed of light\n",
        "c = 3*10**8 #m/s\n",
        "#charge of an electron\n",
        "q = 1.602*10**-19 #coulombs"
      ],
      "metadata": {
        "id": "eiMxY7ugiZlS"
      },
      "execution_count": 43,
      "outputs": []
    },
    {
      "cell_type": "markdown",
      "source": [
        "Current generated from light incident on the photovoltaic is  a result of the light exciting electrons from the valence band to the conduction band of the semiconductor device. This excitation creates an electron hole pair which is then moved through the circuit. This excitation however is dependent on a number of material properties. To simplify this model the following properties are assumed below. The model used will be made from PN junction of silicon. The extinction coefficient helps determine the absorption coefficient and the diffusion length is the range a newly excited electron will travel. Finally the band gap is the potential difference between the valence and conduction band. "
      ],
      "metadata": {
        "id": "R2Tw3PQ2pelM"
      }
    },
    {
      "cell_type": "code",
      "source": [
        "k = 2 #extinction coefficent\n",
        "L = 1*m # diffusion length\n",
        "Band_gap = 1.1242 #eV"
      ],
      "metadata": {
        "id": "Axt5qdV3Rexc"
      },
      "execution_count": 44,
      "outputs": []
    },
    {
      "cell_type": "markdown",
      "source": [
        "### Modeling light source\n",
        "\n",
        "Light has a very well known particle wave duality, therefore for the model an accurate representation needs to be made that works with both characteristics. This sensor is a photovoltaic and designed to operate on electromagnetic waves shorter than microwaves and larger than radiation waves so these waves can be ignored. However, since the semiconductor used is going to be made of silicon its band gap characteristics limit the usable wavelengths further. While doping could be used  to change the band gap this project will assume it stays the same as the constant defined above. WIth this all wavelengths that do not have enough energy to excite an electron across the band gap can be ignored. As to excite and electron hole the photon must send the electron to at least the edge of the conduction band. The longest wave that still has this amount of potential can be defined with the following equation:\n",
        "$$ \\lambda (m)  = \\frac{h (eV/Hz) * c (m/s)}{ \\text{Photon Energy (eV)}} $$\n"
      ],
      "metadata": {
        "id": "2n1TfdxUKuv8"
      }
    },
    {
      "cell_type": "code",
      "source": [
        "print(\"Maximum wavelength: {:.4f} nm\".format( h* c * Band_gap * 1/nano) ) "
      ],
      "metadata": {
        "id": "ZJBgCdeAKxAD",
        "colab": {
          "base_uri": "https://localhost:8080/"
        },
        "outputId": "a41bc9c4-ca70-458b-ca5d-5a5c4019f8b7"
      },
      "execution_count": 45,
      "outputs": [
        {
          "output_type": "stream",
          "name": "stdout",
          "text": [
            "Maximum wavelength: 1394.7725 nm\n"
          ]
        }
      ]
    },
    {
      "cell_type": "markdown",
      "source": [
        "Now that it is known that all wavelengths larger than 1390 nm can be ignored the next step is to find the number of photons currently incident on the photovoltaic, this value can then be multiplied by how many of these photons are absorbed to determine how many electron hole pairs are generated.\n",
        "\n",
        "For simplicity of the project to find the number of photons the total energy will be divided by the summation of photon energies for each wavelength in the light burst. The equation for this is shown below.\n",
        "\n",
        "\n",
        "$$\\frac{\\text{Total Energy}}{\\text{Energy of each Photon}} = \\frac{1 mW }{\\int_{\\lambda_{min}}^{\\lambda_{max}} (h* c / \\lambda) d \\lambda} = \\text{Number of Photons}$$"
      ],
      "metadata": {
        "id": "f9gdXGb4eQlz"
      }
    },
    {
      "cell_type": "code",
      "source": [
        "def GetNumberOfPhotons(watts, wavelength1, wavelength2):  \n",
        "  #convert watts to eV   1 eV = 1.602176487⋅10-19 Ws\n",
        "  ev_total = watts * 4.14 *10**15\n",
        "\n",
        "  #readjust the wavelength range if outside acceptable range\n",
        "  if wavelength2 > 1390 *nano:\n",
        "    wavelength2 = 1390 *nano\n",
        "  if wavelength1 < 1 *nano:\n",
        "    wavelength1 = 1*nano\n",
        "\n",
        "  #integral of h*c / lambda \n",
        "  equation = lambda x : h*c * np.log(x)\n",
        "  \n",
        "  return ev_total / (equation(wavelength2) - equation(wavelength1))\n"
      ],
      "metadata": {
        "id": "NMZibFoFf_Bi"
      },
      "execution_count": 46,
      "outputs": []
    },
    {
      "cell_type": "markdown",
      "source": [
        "### Modeling Light absorption\n",
        "\n",
        "With a model for light created the next is to define the equations for absorption of the photon. From [1] the absorption coefficient can be derived using the equation below. Where k is the extinction coefficient of the material.\n",
        "\n",
        "$$ \\alpha = \\frac{4 \\pi k}{\\lambda} $$\n"
      ],
      "metadata": {
        "id": "jdbIBXShmdws"
      }
    },
    {
      "cell_type": "code",
      "source": [
        "#create function to find alpha (needs to be in terms of cm)\n",
        "def Getalpha(_k, wavelength):\n",
        "  return 4 * np.pi * _k / wavelength"
      ],
      "metadata": {
        "id": "l9I0Q4ew_LIn"
      },
      "execution_count": 47,
      "outputs": []
    },
    {
      "cell_type": "markdown",
      "source": [
        "With the absorption coefficient the generation rate of electron hole pairs can then be calculated. It is known that light intensity drops exponentially the further into the material. It is also known that the initial number of photons incident on the sensor will have an initial absorption. This initial absorption will remove photons from later use. This can be combined into the following generation equation rate equation\n",
        "\n",
        "\n",
        "$$ G = \\alpha N_0 e^{- \\alpha *x } $$\n",
        "\n",
        "Where N_0 is the incident  photons/unit-area/sec and x is the depth into the sensor. The functions are defined in python for later use.\n"
      ],
      "metadata": {
        "id": "u-2TTQHVDPB4"
      }
    },
    {
      "cell_type": "code",
      "source": [
        "#create function to determine generation rate at depth x\n",
        "def G(wavelength, _k, N_0, x):\n",
        "  a = Getalpha(_k, wavelength)\n",
        "  return a * N_0 *np.exp(-a * x)"
      ],
      "metadata": {
        "id": "RpZaK2_gBTSh"
      },
      "execution_count": 48,
      "outputs": []
    },
    {
      "cell_type": "markdown",
      "source": [
        "### Model Collection Probability\n",
        "\n",
        "Now that the generation rate equation is created the next step is to find the probability that the electron hole pair is turned into current. A standard photovoltaic is made of a P and N side, each side opposite dropped so that when an electron/hole enters the other side it is pushed through the connected circuit to recombine. An example diagram is shown below. \n",
        "\n",
        "![PN Junction.jpg](data:image/jpeg;base64,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)\n",
        "\n",
        "For an electron hole pair to become current one of the pairs must first cross the depletion width or the neutral charge zone between the P and N side. The probability of the charge crossing can be found using the average diffusion length of the silicon and the distance from the boundary as shown in the equation below. [3]\n",
        "\n",
        "$$ CP(x) = e^{\\frac{x}{L}}$$\n"
      ],
      "metadata": {
        "id": "ddcYArGEsgzi"
      }
    },
    {
      "cell_type": "code",
      "source": [
        "def CP(x, _L):\n",
        "  return np.exp(-x/_L)"
      ],
      "metadata": {
        "id": "rCOLxZeInIAU"
      },
      "execution_count": 49,
      "outputs": []
    },
    {
      "cell_type": "markdown",
      "source": [
        "The function above relies on the  distance from the boundary and the current point. Finding this distance can be placed into a function as it is an action that will need to be repeated. This distance function also needs the ability to handle both a list of values and a singular value, therefore the following equation was created. "
      ],
      "metadata": {
        "id": "OFNwY4ru3SDk"
      }
    },
    {
      "cell_type": "code",
      "source": [
        "def Adjusted_depth(x, depletion_width, boundry):\n",
        "  #find distance from middle of boundray\n",
        "  d = abs(x-boundry)\n",
        "  #return distance from deplition edge\n",
        "  d = d - depletion_width/2\n",
        "  #adjust the value so that if x is inside the deplition width we return 0\n",
        "  if type(d) == type(3.14) or type(d) == type(np.float64(3.14)):\n",
        "    # d is a singular value\n",
        "    if d > 0:\n",
        "      return d\n",
        "    else:\n",
        "      return 0\n",
        "  else:\n",
        "    # d is an array of values so we must search each individual value\n",
        "\n",
        "    for i in range(len(d)):\n",
        "      if d[i] < 0:\n",
        "        d[i] = 0\n",
        "    return d"
      ],
      "metadata": {
        "id": "gUyHbGvVtNeV"
      },
      "execution_count": 50,
      "outputs": []
    },
    {
      "cell_type": "markdown",
      "source": [
        "### Defining Current Equation\n",
        "\n",
        "Now the probability of collection can be multiplied by the generation giving the number of generated holes that will cross the boundary and become current. This can be integrated over the thickness of the sensor and then multiplied by the area of the sensor. Resulting in the below double integration. \n",
        "\n",
        "\n",
        "$$ J = q \\int_{0}^{\\text{Thickness}} G(x, \\lambda)CP(x) dx  = q \\int_{0}^{\\text{Thickness}} ( \\int_{\\lambda_0}^{\\lambda_1}G(x, \\lambda) d \\lambda )* CP(x) dx $$"
      ],
      "metadata": {
        "id": "ltQvnog-nHSu"
      }
    },
    {
      "cell_type": "markdown",
      "source": [
        "### Executing the Integration\n",
        "With the final mathematical model created for the sensor, the next step is to develop a way of executing the integration terms.  Doing the integration by hand and then typing in the derived  formulas would be the best method, as it would be fast to execute and very accurate. However, because of the generation equation the antiderivative is non-elementary ( $ \\frac{1}{\\lambda}*e^{1/\\lambda} $ ). Therefore to calculate this would be very time consuming and require additional functions to be declared. \n",
        "Instead numerical integration methods can be used to evaluate very close to the true answer and will give a number within a set tolerance. The question then becomes which numerical integration method is best for this model. To determine this project tests the trapezoidal, Gaussian Quadrature, Romberg, and Simpsons methods. \n",
        "In each of the below methods the function `Current(d)` is created internal to the model, this function it calls the same method of integration on the generation function on the range of wavelengths in the burst of light. This function then calculates the current using the collection probability and the result of the integration of all generation at that depth. This current equation is then integrated and multiplied by electron charge to get total current density. \n"
      ],
      "metadata": {
        "id": "cwPUctkOBrjj"
      }
    },
    {
      "cell_type": "markdown",
      "source": [
        "#### Trapezoidal method\n",
        "This method uses a self-written trapezoidal integration python function."
      ],
      "metadata": {
        "id": "ytGntpq0RFpW"
      }
    },
    {
      "cell_type": "code",
      "source": [
        "def trapezoidal_rule(F, N, start, stop):\n",
        "    #create each edge\n",
        "    steps = np.linspace(start, stop, N+1)\n",
        "    \n",
        "    #find width of each trapezoid\n",
        "    h = (stop-start)/N\n",
        "    \n",
        "    #add stop and start points\n",
        "    integration_val = 0.5*F(start)+ 0.5*F(stop)\n",
        "    \n",
        "    for k in range(1, N):\n",
        "        integration_val += F(steps[k])\n",
        "    \n",
        "    #multiply all by base width\n",
        "    integration_val *= h\n",
        "    \n",
        "    return integration_val\n",
        "    "
      ],
      "metadata": {
        "id": "gcj9doK4B8hv"
      },
      "execution_count": 51,
      "outputs": []
    },
    {
      "cell_type": "code",
      "source": [
        "def Trap_Model(Num_steps, k, N0, wave1, wave2, A, boundry, d_width):\n",
        "  def Current(d):\n",
        "\n",
        "\n",
        "    #find the generation rate at depth d\n",
        "    Generation_Rate = lambda wave : G(wave, k, N0, d)\n",
        "    #Find integration of generation rate\n",
        "    G_wavelengths = trapezoidal_rule(Generation_Rate, 100, wave1 *10**5, wave2 *10**5)\n",
        "\n",
        "    #find distance from deplition width\n",
        "    d_dep = Adjusted_depth(d, d_width , boundry )\n",
        "\n",
        "    #define collection at depth d\n",
        "    Collection_prob = CP(d_dep, L)\n",
        "    return G_wavelengths*Collection_prob\n",
        "\n",
        "  start_time = time.time()\n",
        "  #find integration of the entire depth\n",
        "  J_trapez = q *  trapezoidal_rule(Current, Num_steps, 0, thickness)\n",
        "  J_trapez *= A\n",
        "  \n",
        "  T_trapez = time.time() - start_time\n",
        "  print(\"{:.3f} seconds to run\".format(T_trapez))\n",
        "  print(\"Total Current: {:.4}\".format(J_trapez))\n",
        "\n",
        "  return J_trapez, T_trapez"
      ],
      "metadata": {
        "id": "rdF40Y0FkVWY"
      },
      "execution_count": 52,
      "outputs": []
    },
    {
      "cell_type": "markdown",
      "source": [
        "#### Gaussian Quadrature\n",
        "This uses the Guassian Quadrature method from PHY 480"
      ],
      "metadata": {
        "id": "n0Du7ZYjCKJL"
      }
    },
    {
      "cell_type": "code",
      "source": [
        "def gaussxw(N):\n",
        "\n",
        "    # Initial approximation to roots of the Legendre polynomial\n",
        "    a = np.linspace(3, 4*N-1, N)/(4*N+2)\n",
        "    x = np.cos(np.pi*a+1/(8*N*N*np.tan(a)))\n",
        "    \n",
        "    # Find roots using Newton's method\n",
        "    epsilon = 1e-15\n",
        "    delta = 1.0\n",
        "\n",
        "    #check if we have reached below a threshold\n",
        "    while delta > epsilon:\n",
        "        p0 = np.ones(N, float)\n",
        "        p1 = np.copy(x)\n",
        "        \n",
        "        for k in range(1, N):\n",
        "            p0,p1 = p1,((2*k+1)*x*p1 - k*p0)/(k+1)\n",
        "        \n",
        "        dp = (N+1)*(p0-x*p1)/(1-x*x)\n",
        "        dx = p1/dp\n",
        "        x -= dx\n",
        "        delta = max(np.abs(dx))\n",
        "\n",
        "    # Calculate the weights\n",
        "    w = 2*(N+1)*(N+1)/(N*N*(1-x*x)*dp*dp)\n",
        "\n",
        "    return x,w\n",
        "\n",
        "\n",
        "def gaussxwab(N, a, b):\n",
        "    x, w = gaussxw(N)\n",
        "    #returns x converted to -1 to 1 range and the adjusted weight function\n",
        "    return 0.5*(b-a)*x + 0.5*(b+a), 0.5*(b-a)*w"
      ],
      "metadata": {
        "id": "9507YyxmCqYn"
      },
      "execution_count": 53,
      "outputs": []
    },
    {
      "cell_type": "code",
      "source": [
        "def Gauss_model(Num_steps, k, N0, wave1, wave2, A, boundry, d_width):\n",
        "  def Current(d):\n",
        "    #find distance from deplition width\n",
        "    d_dep = Adjusted_depth(d, d_width , boundry )\n",
        "\n",
        "    #find the generation rate at depth d\n",
        "    Generation_Rate = lambda wave : G(wave, k, N0, d)\n",
        "    #Find integration of generation rate\n",
        "    x, w = gaussxwab(Num_steps, wave1, wave2)\n",
        "    G_wavelengths = np.sum(w*Generation_Rate(x))\n",
        "\n",
        "    #define collection at distance d from midpoint\n",
        "    Collection_prob = CP(d_dep, L)\n",
        "\n",
        "    return G_wavelengths*Collection_prob\n",
        "\n",
        "  start_time = time.time()\n",
        "  #find integration of the entire depth\n",
        "  x, w = gaussxwab(Num_steps, 0, thickness)\n",
        "  J_gauss = q *  np.sum(w*Current(x))\n",
        "  J_gauss *= A\n",
        "  \n",
        "  T_gauss = time.time() - start_time\n",
        "\n",
        "  print(\"{:.3f} seconds to run\".format(T_gauss))\n",
        "  print(\"Total Current: {:.4}\".format(J_gauss))\n",
        "\n",
        "  return J_gauss, T_gauss"
      ],
      "metadata": {
        "id": "WCv4gCb_C1My"
      },
      "execution_count": 54,
      "outputs": []
    },
    {
      "cell_type": "markdown",
      "source": [
        "####  Romberg Integration Method\n",
        "This method uses the Sympy Integration library [4]"
      ],
      "metadata": {
        "id": "B5WpVdAEDvzK"
      }
    },
    {
      "cell_type": "code",
      "source": [
        "def Romberg_model(k, N0, wave1, wave2, A, boundry, d_width):\n",
        "  def Current(d):\n",
        "    #find distance from deplition width\n",
        "    d_dep = Adjusted_depth(d, d_width , boundry )\n",
        "\n",
        "    #find the generation rate at depth d\n",
        "    Generation_Rate = lambda wave : G(wave, k, N0, d)\n",
        "    #Find integration of generation rate\n",
        "    G_wavelengths = integrate.romberg(Generation_Rate, wave1, wave2)\n",
        "\n",
        "    #find the generation rate at depth d\n",
        "    Generation_Rate = lambda wave : G(wave, k, N0, d)\n",
        "    #Find integration of generation rate\n",
        "    G_wavelengths = integrate.romberg(Generation_Rate, wave1, wave2)\n",
        "\n",
        "    #define collection at depth d\n",
        "    Collection_prob = CP(d_dep, L)\n",
        "\n",
        "    return G_wavelengths*Collection_prob\n",
        "\n",
        "  start_time = time.time()\n",
        "  J_rom = q * integrate.romberg(Current, 0, thickness)\n",
        "  J_rom *= A\n",
        "\n",
        "  T_rom = time.time() - start_time\n",
        "\n",
        "  print(\"{:.3f} seconds to run\".format(T_rom))\n",
        "  print(\"Total Current: {:.4}\".format(J_rom))\n",
        "  \n",
        "\n",
        "  return J_rom, T_rom"
      ],
      "metadata": {
        "id": "uu8FPMh-D0no"
      },
      "execution_count": 55,
      "outputs": []
    },
    {
      "cell_type": "markdown",
      "source": [
        "#### Simpsons\n",
        "This method uses the Sympy Integration library [4]"
      ],
      "metadata": {
        "id": "TvGzm69jlcbn"
      }
    },
    {
      "cell_type": "code",
      "source": [
        "def Simps_model(Num_steps, k, N0, wave1, wave2, A, boundry, d_width):\n",
        "  def Current(d):\n",
        "    #find distance from deplition width\n",
        "    d_dep = Adjusted_depth(d, d_width , boundry )\n",
        "\n",
        "\n",
        "    #find the generation rate at depth d\n",
        "    Generation_Rate = lambda wave : G(wave, k, N0, d)\n",
        "    #Find integration of generation rate\n",
        "    wavelengthRange = np.linspace(wave1, wave2, Num_steps)\n",
        "    G_wavelengths = integrate.simpson(Generation_Rate(wavelengthRange), dx = (wave2 - wave1)/Num_steps)\n",
        "\n",
        "    #define collection at depth d\n",
        "    Collection_prob = CP(d_dep, L)\n",
        "\n",
        "    return G_wavelengths*Collection_prob\n",
        "  \n",
        "  start_time = time.time()\n",
        "  d = np.linspace(0, thickness, Num_steps)\n",
        "  J_simps = q * integrate.simpson(Current(d), dx = thickness/ Num_steps)\n",
        "  J_simps *= A\n",
        "  T_simps = time.time() - start_time\n",
        "\n",
        "  print(\"{:.3f} seconds to run\".format(T_simps))\n",
        "  print(\"Total Current: {:.4}\".format(J_simps))\n",
        "  \n",
        "\n",
        "  return J_simps, T_simps"
      ],
      "metadata": {
        "id": "QHspy0ijlVWN"
      },
      "execution_count": 56,
      "outputs": []
    },
    {
      "cell_type": "markdown",
      "source": [
        "Now with all of the methods of integration created they can be tested when calculating the current for different light bursts. For this model to produce a results all fo the following characteristics will need to be entered into each model:\n",
        "\n",
        "- Minimum wavelength in the burst of light\n",
        "- Maximum wavelength in the burst of light \n",
        "- Extinction coefficient of the material\n",
        "- Number of photons incident\n",
        "- Area of the sensor\n",
        "- The depth at which the boundary between the P and N junction sits.\n"
      ],
      "metadata": {
        "id": "t48Qk8uzH7fi"
      }
    },
    {
      "cell_type": "markdown",
      "source": [
        "The first situation the models can be tested with is a burst of light with a spectrum of 500 nm to 510 nm or a near monochromatic light burst. The thickness of the device will be 5mm and the boundary will occur at the 2 mm depth. The surface area will be 2cm by 2cm and the power expected is 500 $\\mu$ watts. Given these characteristics, what does each model predict the current will be?"
      ],
      "metadata": {
        "id": "5n5ajRnQZeCJ"
      }
    },
    {
      "cell_type": "code",
      "source": [
        "J_gauss = []\n",
        "J_trapz = []\n",
        "J_rom   = []\n",
        "J_simps = []\n",
        "\n",
        "T_gauss = []\n",
        "T_trapz = []\n",
        "T_rom   = []\n",
        "T_simps = []"
      ],
      "metadata": {
        "id": "r7_qtgUG9nqT"
      },
      "execution_count": 57,
      "outputs": []
    },
    {
      "cell_type": "code",
      "source": [
        "#define wavelength range\n",
        "wave1 = 500*nano\n",
        "wave2 = 510*nano\n",
        "#define thickness of sensor\n",
        "thickness = 5*m\n",
        "#define where the PN junction is in the semiconductor\n",
        "boundry = 2*m\n",
        "d_width = 0.5*m\n",
        "#surface area of the sensor (2x2 cm)\n",
        "area = ( .02 )**2\n",
        "N0 = GetNumberOfPhotons(500*u, wave1, wave2)\n",
        "Num_steps = 10**4\n",
        "\n",
        "print(\"Trapezoidal\")\n",
        "J, T = Trap_Model(Num_steps,k, N0, wave1*10**5, wave2*10**5, area, boundry, d_width)\n",
        "J_trapz.append(J)\n",
        "T_trapz.append(T)\n",
        "print(\"Gaussian\")\n",
        "J, T = Gauss_model(Num_steps,k, N0, wave1*10**5, wave2*10**5, area, boundry, d_width)\n",
        "J_gauss.append(J)\n",
        "T_gauss.append(T)\n",
        "print(\"Romberg\")\n",
        "J, T = Romberg_model( k, N0, wave1*10**5, wave2*10**5, area, boundry, d_width)\n",
        "J_rom.append(J)\n",
        "T_rom.append(T)\n",
        "print(\"Simpsons\")\n",
        "J, T = Simps_model(Num_steps, k, N0, wave1*10**5, wave2*10**5, area, boundry, d_width)\n",
        "J_simps.append(J)\n",
        "T_simps.append(T)"
      ],
      "metadata": {
        "colab": {
          "base_uri": "https://localhost:8080/"
        },
        "id": "cZv2sGs3R1Cy",
        "outputId": "c5bce38c-3a52-4083-d523-9131218e0b95"
      },
      "execution_count": 58,
      "outputs": [
        {
          "output_type": "stream",
          "name": "stdout",
          "text": [
            "Trapezoidal\n",
            "3.305 seconds to run\n",
            "Total Current: 6.079e-06\n",
            "Gaussian\n",
            "3.110 seconds to run\n",
            "Total Current: 2.249e-06\n",
            "Romberg\n",
            "0.226 seconds to run\n",
            "Total Current: 2.383e-06\n",
            "Simpsons\n",
            "0.009 seconds to run\n",
            "Total Current: 2.248e-06\n"
          ]
        }
      ]
    },
    {
      "cell_type": "markdown",
      "source": [
        "These results are further explored in the results section. Next the models are tested again with a non-monochromatic light source with almost all other characteristics remaining constant. "
      ],
      "metadata": {
        "id": "sAtBI8GzZ81Q"
      }
    },
    {
      "cell_type": "code",
      "source": [
        "#define wavelength range\n",
        "wave1 = 500*nano\n",
        "wave2 = 600*nano\n",
        "#define thickness of sensor\n",
        "thickness = 5*m\n",
        "#define where the PN junction is in the semiconductor\n",
        "boundry = 2*m\n",
        "d_width = 0.5*m\n",
        "#surface area of the sensor (2x2 cm)\n",
        "area = ( .02 )**2\n",
        "N0 = GetNumberOfPhotons(500*u, wave1, wave2)\n",
        "Num_steps = 10**4\n",
        "\n",
        "print(\"Trapezoidal\")\n",
        "J, T = Trap_Model(Num_steps,k, N0, wave1*10**5, wave2*10**5, area, boundry, d_width)\n",
        "J_trapz.append(J)\n",
        "T_trapz.append(T)\n",
        "print(\"Gaussian\")\n",
        "J, T = Gauss_model(Num_steps,k, N0, wave1*10**5, wave2*10**5, area, boundry, d_width)\n",
        "J_gauss.append(J)\n",
        "T_gauss.append(T)\n",
        "print(\"Romberg\")\n",
        "J, T = Romberg_model( k, N0, wave1*10**5, wave2*10**5, area, boundry, d_width)\n",
        "J_rom.append(J)\n",
        "T_rom.append(T)\n",
        "print(\"Simpsons\")\n",
        "J, T = Simps_model(Num_steps, k, N0, wave1*10**5, wave2*10**5, area, boundry, d_width)\n",
        "J_simps.append(J)\n",
        "T_simps.append(T)"
      ],
      "metadata": {
        "id": "pu5GyeXfU8YX",
        "colab": {
          "base_uri": "https://localhost:8080/"
        },
        "outputId": "a088f27c-b1a7-4848-81b2-8769a395057b"
      },
      "execution_count": 59,
      "outputs": [
        {
          "output_type": "stream",
          "name": "stdout",
          "text": [
            "Trapezoidal\n",
            "3.594 seconds to run\n",
            "Total Current: 6.079e-06\n",
            "Gaussian\n",
            "2.495 seconds to run\n",
            "Total Current: 2.47e-06\n",
            "Romberg\n",
            "0.264 seconds to run\n",
            "Total Current: 2.544e-06\n",
            "Simpsons\n",
            "0.008 seconds to run\n",
            "Total Current: 2.47e-06\n"
          ]
        }
      ]
    },
    {
      "cell_type": "markdown",
      "source": [
        "The final test conducted is with the same wavelength spectrum as the last test but now the thickness and power changed."
      ],
      "metadata": {
        "id": "8WtnO5DtZ09h"
      }
    },
    {
      "cell_type": "code",
      "source": [
        "#define wavelength range\n",
        "wave1 = 500*nano\n",
        "wave2 = 600*nano\n",
        "#define thickness of sensor\n",
        "thickness = 2*m\n",
        "#define where the PN junction is in the semiconductor\n",
        "boundry = .1*m\n",
        "d_width = 0.5*m\n",
        "#surface area of the sensor (2x2 cm)\n",
        "area = ( .02 )**2\n",
        "N0 = GetNumberOfPhotons(800*u, wave1, wave2)\n",
        "Num_steps = 10**4\n",
        "\n",
        "print(\"Trapezoidal\")\n",
        "J, T = Trap_Model(Num_steps,k, N0, wave1*10**5, wave2*10**5, area, boundry, d_width)\n",
        "J_trapz.append(J)\n",
        "T_trapz.append(T)\n",
        "print(\"Gaussian\")\n",
        "J, T = Gauss_model(Num_steps,k, N0, wave1*10**5, wave2*10**5, area, boundry, d_width)\n",
        "J_gauss.append(J)\n",
        "T_gauss.append(T)\n",
        "print(\"Romberg\")\n",
        "J, T = Romberg_model( k, N0, wave1*10**5, wave2*10**5, area, boundry, d_width)\n",
        "J_rom.append(J)\n",
        "T_rom.append(T)\n",
        "print(\"Simpsons\")\n",
        "J, T = Simps_model(Num_steps, k, N0, wave1*10**5, wave2*10**5, area, boundry, d_width)\n",
        "J_simps.append(J)\n",
        "T_simps.append(T)"
      ],
      "metadata": {
        "id": "Z3w2g-xHVO6T",
        "colab": {
          "base_uri": "https://localhost:8080/"
        },
        "outputId": "e57d23c6-6abc-43dc-871a-91d3d676ef58"
      },
      "execution_count": 60,
      "outputs": [
        {
          "output_type": "stream",
          "name": "stdout",
          "text": [
            "Trapezoidal\n",
            "3.248 seconds to run\n",
            "Total Current: 4.978e-06\n",
            "Gaussian\n",
            "3.075 seconds to run\n",
            "Total Current: 3.329e-06\n",
            "Romberg\n",
            "0.326 seconds to run\n",
            "Total Current: 3.673e-06\n",
            "Simpsons\n",
            "0.009 seconds to run\n",
            "Total Current: 3.328e-06\n"
          ]
        }
      ]
    },
    {
      "cell_type": "markdown",
      "source": [
        "With the above models created and the code run the results can be analyzed"
      ],
      "metadata": {
        "id": "Hf-QayyDafkk"
      }
    },
    {
      "cell_type": "markdown",
      "metadata": {
        "id": "Zr4NrTeloqwC"
      },
      "source": [
        "## Results and Discussion"
      ]
    },
    {
      "cell_type": "markdown",
      "source": [
        "Before comparing the effectiveness of each integration model, the collected functions should be analyzed to ensure that they produce accurate results. To compare them the below cell plots the generation rate, collection probability, and current density as functions of depth into the sensor. "
      ],
      "metadata": {
        "id": "UQTNxUIZRRRq"
      }
    },
    {
      "cell_type": "code",
      "source": [
        "#define wavelength range\n",
        "wave1 = 500*nano\n",
        "wave2 = 510*nano\n",
        "#define thickness of sensor\n",
        "thickness = 5*m\n",
        "#define where the PN junction is in the semiconductor\n",
        "boundry = 2*m\n",
        "d_width = 0.5*m\n",
        "#surface area of the sensor (2x2 cm)\n",
        "area = ( .02 )**2\n",
        "N0 = GetNumberOfPhotons(500*u, wave1, wave2)\n",
        "Num_steps = 10**4\n",
        "\n",
        "C_list = []\n",
        "G_list = []\n",
        "J_list = []\n",
        "def Current(d):\n",
        "  #find distance from deplition width\n",
        "  d_dep = Adjusted_depth(d, d_width , boundry )\n",
        "\n",
        "  #find the generation rate at depth d\n",
        "  Generation_Rate = lambda wave : G(wave, k, N0, d)\n",
        "  #Find integration of generation rate\n",
        "  G_wavelengths = trapezoidal_rule(Generation_Rate, 100, wave1*10**5, wave2*10**5 )\n",
        "  \n",
        "  G_list.append(G_wavelengths)\n",
        "\n",
        "\n",
        "  #define collection at distance d from midpoint\n",
        "  Collection_prob = CP(d_dep, L)\n",
        "  C_list.append(Collection_prob)\n",
        "\n",
        "  J = G_wavelengths*Collection_prob\n",
        "  J_list.append(J)\n",
        "\n",
        "  return J\n",
        "\n",
        "trapezoidal_rule(Current, Num_steps, 0, thickness)\n",
        "\n"
      ],
      "metadata": {
        "colab": {
          "base_uri": "https://localhost:8080/"
        },
        "id": "V4M-dIcTRQk0",
        "outputId": "cc46561a-64ab-4f86-a129-403c26b9efb0"
      },
      "execution_count": 61,
      "outputs": [
        {
          "output_type": "execute_result",
          "data": {
            "text/plain": [
              "3.719020641602041e+16"
            ]
          },
          "metadata": {},
          "execution_count": 61
        }
      ]
    },
    {
      "cell_type": "code",
      "source": [
        "#plot results\n",
        "\n",
        "fig, axs = plt.subplots(3)\n",
        "fig.suptitle('Solid State Equation Analysis')\n",
        "\n",
        "fig.set_figheight(8)\n",
        "fig.set_figwidth(7)\n",
        "\n",
        "\n",
        "d = np.linspace(0, thickness, Num_steps+1)\n",
        "\n",
        "\n",
        "\n",
        "axs[0].plot(d*1/m, G_list)\n",
        "axs[0].set_title(\"Generation Rate\")\n",
        "axs[0].axvline(boundry*1/m, color = 'r', linestyle = '--')\n",
        "axs[0].set_xlabel(\"mm into device\")\n",
        "axs[0].set_ylabel(\"EH pairs generated\")\n",
        "\n",
        "\n",
        "axs[1].plot( d*1/m , C_list)\n",
        "axs[1].set_title(\"Collection Probablity\")\n",
        "axs[1].axvline(boundry*1/m, color = 'r', linestyle = '--')\n",
        "axs[1].set_xlabel(\"mm into device\")\n",
        "axs[1].set_ylabel(\"% chance of collection\")\n",
        "\n",
        "\n",
        "axs[2].plot(d*1/m, J_list)\n",
        "axs[2].set_title(\"Current density\")\n",
        "axs[2].axvline(boundry*1/m, color = 'r', linestyle = '--')\n",
        "axs[2].set_xlabel(\"mm into device\")\n",
        "axs[2].set_ylabel(\"Current\")\n",
        "\n",
        "\n",
        "plt.tight_layout()\n",
        "plt.show()\n",
        "\n"
      ],
      "metadata": {
        "colab": {
          "base_uri": "https://localhost:8080/",
          "height": 805
        },
        "id": "EyOpu1SD6ZUD",
        "outputId": "934ac112-8462-4777-877f-c4ff61e64c59"
      },
      "execution_count": 62,
      "outputs": [
        {
          "output_type": "display_data",
          "data": {
            "text/plain": [
              "<Figure size 700x800 with 3 Axes>"
            ],
            "image/png": "[encoded data removed]"
          },
          "metadata": {}
        }
      ]
    },
    {
      "cell_type": "markdown",
      "source": [
        "The above graphs show that our generation, collection probability, and generation rate create accurate representations of what is expected within the sensor. The generation rate drops off exponentially as it gets further into the sensor. The collection probability spikes around the boundary and exponentially decays. With both of these it's easy to see there is stronger current generation closer to the surface, but the strongest currents occur at the boundary where all generated holes turn into current.\n",
        "\n",
        "With the verification of the internal equations the different methods of integration can be compared. To show the difference the current result of each method can be plotted against the time the method took to record the result. "
      ],
      "metadata": {
        "id": "-bU6ZaUUTJuR"
      }
    },
    {
      "cell_type": "code",
      "source": [
        "fig, axs = plt.subplots(1, len(J_rom))\n",
        "fig.set_figheight(6)\n",
        "fig.set_figwidth(9)\n",
        "fig.suptitle('Integration Method Analysis')\n",
        "\n",
        "for i in range(len(J_rom)):\n",
        "  #plot all lists\n",
        "  axs[i].scatter(T_trapz[i], J_trapz[i], label = 'Trapezoidal')\n",
        "  axs[i].scatter(T_gauss[i], J_gauss[i], label = 'Gauissian')\n",
        "  axs[i].scatter(T_rom[i], J_rom[i], label = 'Romberg')\n",
        "  axs[i].scatter(T_simps[i], J_simps[i], label = 'Simpsons')\n",
        "  #add labels\n",
        "  axs[i].set_xlabel('Seconds')\n",
        "  axs[i].set_ylabel('Current')\n",
        "\n",
        "axs[0].legend()\n",
        "# Adjust the layout to prevent subplot overlap\n",
        "plt.tight_layout()\n",
        "plt.show()"
      ],
      "metadata": {
        "colab": {
          "base_uri": "https://localhost:8080/",
          "height": 609
        },
        "id": "zDGJwv-3T7j-",
        "outputId": "8ae26b30-fb64-4b20-88d7-92b4f531ad89"
      },
      "execution_count": 63,
      "outputs": [
        {
          "output_type": "display_data",
          "data": {
            "text/plain": [
              "<Figure size 900x600 with 3 Axes>"
            ],
            "image/png": "[encoded data removed]"
          },
          "metadata": {}
        }
      ]
    },
    {
      "cell_type": "code",
      "source": [
        "#compute average run time of each method\n",
        "print(\"Trapezoidal\", np.average(T_trapz))\n",
        "print(\"Gaussian\", np.average(T_gauss))\n",
        "print(\"Romberg\", np.average(T_rom))\n",
        "print(\"Simpsons\", np.average(T_simps))"
      ],
      "metadata": {
        "colab": {
          "base_uri": "https://localhost:8080/"
        },
        "id": "Rx4YhmjpXyMB",
        "outputId": "e3223160-1833-4f92-88bf-02f5f2ad8422"
      },
      "execution_count": 64,
      "outputs": [
        {
          "output_type": "stream",
          "name": "stdout",
          "text": [
            "Trapezoidal 3.3825951417287192\n",
            "Gaussian 2.89336363474528\n",
            "Romberg 0.27237717310587567\n",
            "Simpsons 0.0085905392964681\n"
          ]
        }
      ]
    },
    {
      "cell_type": "markdown",
      "source": [
        "From the above graphs it is noticeable first that the trapezoidal method takes significantly longer than all other methods and produces a result that is far larger than the other results. From here the second slowest method is the Gaussian method, which is over double the time of the other two methods. The Romberg and Simpson's method both execute extremely fast and the values produced are comparable on the first two graphs. However when compared to the third graph the Romberg integration shows to jump drastically. "
      ],
      "metadata": {
        "id": "z0bqb4diHVvD"
      }
    },
    {
      "cell_type": "markdown",
      "metadata": {
        "id": "Yoo9pX7zoqwD"
      },
      "source": [
        "##  Conclusion and Perspectives"
      ]
    },
    {
      "cell_type": "markdown",
      "source": [
        "From the above results it is clear that the best integration method is Simpson's integration. This method was the fastest, taking between 0.002 to 0.006 seconds to run. This method also showed to produce results consistent with the Gaussian method even on large numbers. The results above also confirm that the equations used above create accurate representations of a real life photovoltaic. As when plotted as a function of depth the results produced the expected response. \n",
        "\n",
        "\n",
        "Collecting this information proved to be fairly time consuming as the equations are not commonplace and are very device specific, so a number of characteristic numbers were found through guess and check. In future iterations diving deeper into these material properties and creating more variability based on these properties. Future iterations could also dive deeper into surface recombination which for this project was ignored. \n",
        "\n",
        "The end result is a time efficient model, written in a python function below which is able to effectively predict how much current will result from a predicted burst of light on a known sensor.\n"
      ],
      "metadata": {
        "id": "YT8_sFbyHvzz"
      }
    },
    {
      "cell_type": "code",
      "source": [
        "def CurrentFromSensor(power, minwavelength, maxwavelength, Area, boundry, thickness, d_width):\n",
        "  #define number of photons incident on the sensor\n",
        "  N0 = GetNumberOfPhotons(power, minwavelength, maxwavelength)\n",
        "\n",
        "  if maxwavelength > 1390*nano:\n",
        "    maxwavelength = 1390*nano\n",
        "\n",
        "  if minwavelength > 1390*nano:\n",
        "    minwavelength = 1390*nano\n",
        "\n",
        "  wave1 = minwavelength*10**5\n",
        "  wave2 = maxwavelength*10**5\n",
        "\n",
        "  #define internal current generation\n",
        "  def Current(d):\n",
        "\n",
        "    #find the generation rate at depth d\n",
        "    Generation_Rate = lambda wave : G(wave, k, N0, d)\n",
        "\n",
        "    #Find integration of generation rate\n",
        "    Num_steps = 10**4\n",
        "    wavelengthRange = np.linspace(wave1, wave2, Num_steps)\n",
        "    G_wavelengths = integrate.simpson(Generation_Rate(wavelengthRange), dx = (wave2 - wave1)/Num_steps)\n",
        "\n",
        "    #adjust to be the distance between current point and boundry\n",
        "    d = Adjusted_depth(d, d_width , boundry )\n",
        "\n",
        "    #define collection at depth d\n",
        "    Collection_prob = CP(d, L)\n",
        "\n",
        "    return G_wavelengths*Collection_prob\n",
        "\n",
        "  d = np.linspace(0, thickness, Num_steps)\n",
        "  J = q * integrate.simpson(Current(d), dx = thickness/ Num_steps)\n",
        "  J *= Area\n",
        "\n",
        "  return J"
      ],
      "metadata": {
        "id": "WE6v-UaoHwbQ"
      },
      "execution_count": 65,
      "outputs": []
    },
    {
      "cell_type": "markdown",
      "source": [
        "To show the usefulness of this model a hypothetical system is proposed. A researcher wants to measure a light source which can be visibly seen to be blue. The characteristics of the photovoltaic sensor are known and the researcher wants to know the power of the light beam. The researcher strikes the photovoltaic with the light and then measures that the short circuit current is 3 nano amps. From here the researcher uses the model created in this project to produce the graph below. From this graph the researcher plots 3 nano amps and finds that the light is producing 146 micro watts."
      ],
      "metadata": {
        "id": "P58K8KM2dy3q"
      }
    },
    {
      "cell_type": "code",
      "source": [
        "#define parameters\n",
        "Area = (2*m)**2 #meters\n",
        "b_m = 4*m\n",
        "thickness = 10*m\n",
        "d_width = 0.1*m\n",
        "\n",
        "J_list = []\n",
        "max_range = range(10, 250)\n",
        "for i in max_range:\n",
        "  J = CurrentFromSensor(i*u, 400*nano, 500*nano,  Area , b_m , thickness, d_width)\n",
        "  J_list.append(J)\n",
        "\n",
        "plt.plot(max_range, np.array(J_list)*10**9)\n",
        "plt.ylabel(\"nano amps\")\n",
        "plt.xlabel(\"Power in microwatts\")\n",
        "plt.title(\"Blue Light Power to Current Plot\")\n",
        "plt.axvline(146, color = 'r', linestyle = '--')\n",
        "plt.axhline(3, color = 'r', linestyle = '--')\n",
        "plt.grid()"
      ],
      "metadata": {
        "id": "GuWIK2z8Hz-o",
        "colab": {
          "base_uri": "https://localhost:8080/",
          "height": 472
        },
        "outputId": "68d1f0e7-2bd7-4f41-eae5-2e7d04419a35"
      },
      "execution_count": 66,
      "outputs": [
        {
          "output_type": "display_data",
          "data": {
            "text/plain": [
              "<Figure size 640x480 with 1 Axes>"
            ],
            "image/png": "[encoded data removed]"
          },
          "metadata": {}
        }
      ]
    },
    {
      "cell_type": "markdown",
      "metadata": {
        "id": "g22VvNgpoqwD"
      },
      "source": [
        "## References"
      ]
    },
    {
      "cell_type": "markdown",
      "source": [
        "[1]\n",
        "C. Honsberg and S. Bowden, “Absorption Coefficient | PVEducation,” www.pveducation.org. https://www.pveducation.org/pvcdrom/pn-junctions/absorption-coefficient\n",
        "\n",
        "[2]\n",
        "“Photon energy,” Wikipedia, Oct. 30, 2019. https://en.wikipedia.org/wiki/Photon_energy\n",
        "\n",
        "[3]\n",
        "C. Honsberg and S. Bowden, “Collection Probability | PVEducation,” www.pveducation.org. https://www.pveducation.org/pvcdrom/solar-cell-operation/collection-probability\n",
        "\n",
        "[4]\n",
        "SymPy Development Team, “Integrals - SymPy 1.11 documentation,” docs.sympy.org, Aug. 22, 2022. https://docs.sympy.org/latest/modules/integrals/integrals.html (accessed Apr. 19, 2023).\n",
        "\n",
        "‌"
      ],
      "metadata": {
        "id": "fKP3kYMJqqn8"
      }
    },
    {
      "cell_type": "markdown",
      "metadata": {
        "id": "8IEGUvl-oqwE"
      },
      "source": [
        "##  Appendices\n"
      ]
    }
  ],
  "metadata": {
    "kernelspec": {
      "display_name": "Python 3",
      "language": "python",
      "name": "python3"
    },
    "language_info": {
      "codemirror_mode": {
        "name": "ipython",
        "version": 3
      },
      "file_extension": ".py",
      "mimetype": "text/x-python",
      "name": "python",
      "nbconvert_exporter": "python",
      "pygments_lexer": "ipython3",
      "version": "3.8.8"
    },
    "colab": {
      "provenance": [],
      "include_colab_link": true
    }
  },
  "nbformat": 4,
  "nbformat_minor": 0
}